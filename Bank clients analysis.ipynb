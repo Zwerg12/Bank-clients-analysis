{
 "cells": [
  {
   "cell_type": "markdown",
   "metadata": {},
   "source": [
    "### Шаг 1. Откройте файл с данными и изучите общую информацию. "
   ]
  },
  {
   "cell_type": "code",
   "execution_count": 1,
   "metadata": {},
   "outputs": [],
   "source": [
    "import pandas as pd"
   ]
  },
  {
   "cell_type": "code",
   "execution_count": 2,
   "metadata": {},
   "outputs": [],
   "source": [
    "from pymystem3 import Mystem"
   ]
  },
  {
   "cell_type": "code",
   "execution_count": 3,
   "metadata": {},
   "outputs": [],
   "source": [
    "from collections import Counter"
   ]
  },
  {
   "cell_type": "code",
   "execution_count": 4,
   "metadata": {},
   "outputs": [],
   "source": [
    "df = pd.read_csv('/datasets/data.csv')"
   ]
  },
  {
   "cell_type": "code",
   "execution_count": 5,
   "metadata": {},
   "outputs": [
    {
     "data": {
      "text/html": [
       "<div>\n",
       "<style scoped>\n",
       "    .dataframe tbody tr th:only-of-type {\n",
       "        vertical-align: middle;\n",
       "    }\n",
       "\n",
       "    .dataframe tbody tr th {\n",
       "        vertical-align: top;\n",
       "    }\n",
       "\n",
       "    .dataframe thead th {\n",
       "        text-align: right;\n",
       "    }\n",
       "</style>\n",
       "<table border=\"1\" class=\"dataframe\">\n",
       "  <thead>\n",
       "    <tr style=\"text-align: right;\">\n",
       "      <th></th>\n",
       "      <th>children</th>\n",
       "      <th>days_employed</th>\n",
       "      <th>dob_years</th>\n",
       "      <th>education</th>\n",
       "      <th>education_id</th>\n",
       "      <th>family_status</th>\n",
       "      <th>family_status_id</th>\n",
       "      <th>gender</th>\n",
       "      <th>income_type</th>\n",
       "      <th>debt</th>\n",
       "      <th>total_income</th>\n",
       "      <th>purpose</th>\n",
       "    </tr>\n",
       "  </thead>\n",
       "  <tbody>\n",
       "    <tr>\n",
       "      <td>0</td>\n",
       "      <td>1</td>\n",
       "      <td>-8437.673028</td>\n",
       "      <td>42</td>\n",
       "      <td>высшее</td>\n",
       "      <td>0</td>\n",
       "      <td>женат / замужем</td>\n",
       "      <td>0</td>\n",
       "      <td>F</td>\n",
       "      <td>сотрудник</td>\n",
       "      <td>0</td>\n",
       "      <td>253875.639453</td>\n",
       "      <td>покупка жилья</td>\n",
       "    </tr>\n",
       "    <tr>\n",
       "      <td>1</td>\n",
       "      <td>1</td>\n",
       "      <td>-4024.803754</td>\n",
       "      <td>36</td>\n",
       "      <td>среднее</td>\n",
       "      <td>1</td>\n",
       "      <td>женат / замужем</td>\n",
       "      <td>0</td>\n",
       "      <td>F</td>\n",
       "      <td>сотрудник</td>\n",
       "      <td>0</td>\n",
       "      <td>112080.014102</td>\n",
       "      <td>приобретение автомобиля</td>\n",
       "    </tr>\n",
       "    <tr>\n",
       "      <td>2</td>\n",
       "      <td>0</td>\n",
       "      <td>-5623.422610</td>\n",
       "      <td>33</td>\n",
       "      <td>Среднее</td>\n",
       "      <td>1</td>\n",
       "      <td>женат / замужем</td>\n",
       "      <td>0</td>\n",
       "      <td>M</td>\n",
       "      <td>сотрудник</td>\n",
       "      <td>0</td>\n",
       "      <td>145885.952297</td>\n",
       "      <td>покупка жилья</td>\n",
       "    </tr>\n",
       "    <tr>\n",
       "      <td>3</td>\n",
       "      <td>3</td>\n",
       "      <td>-4124.747207</td>\n",
       "      <td>32</td>\n",
       "      <td>среднее</td>\n",
       "      <td>1</td>\n",
       "      <td>женат / замужем</td>\n",
       "      <td>0</td>\n",
       "      <td>M</td>\n",
       "      <td>сотрудник</td>\n",
       "      <td>0</td>\n",
       "      <td>267628.550329</td>\n",
       "      <td>дополнительное образование</td>\n",
       "    </tr>\n",
       "    <tr>\n",
       "      <td>4</td>\n",
       "      <td>0</td>\n",
       "      <td>340266.072047</td>\n",
       "      <td>53</td>\n",
       "      <td>среднее</td>\n",
       "      <td>1</td>\n",
       "      <td>гражданский брак</td>\n",
       "      <td>1</td>\n",
       "      <td>F</td>\n",
       "      <td>пенсионер</td>\n",
       "      <td>0</td>\n",
       "      <td>158616.077870</td>\n",
       "      <td>сыграть свадьбу</td>\n",
       "    </tr>\n",
       "    <tr>\n",
       "      <td>...</td>\n",
       "      <td>...</td>\n",
       "      <td>...</td>\n",
       "      <td>...</td>\n",
       "      <td>...</td>\n",
       "      <td>...</td>\n",
       "      <td>...</td>\n",
       "      <td>...</td>\n",
       "      <td>...</td>\n",
       "      <td>...</td>\n",
       "      <td>...</td>\n",
       "      <td>...</td>\n",
       "      <td>...</td>\n",
       "    </tr>\n",
       "    <tr>\n",
       "      <td>21520</td>\n",
       "      <td>1</td>\n",
       "      <td>-4529.316663</td>\n",
       "      <td>43</td>\n",
       "      <td>среднее</td>\n",
       "      <td>1</td>\n",
       "      <td>гражданский брак</td>\n",
       "      <td>1</td>\n",
       "      <td>F</td>\n",
       "      <td>компаньон</td>\n",
       "      <td>0</td>\n",
       "      <td>224791.862382</td>\n",
       "      <td>операции с жильем</td>\n",
       "    </tr>\n",
       "    <tr>\n",
       "      <td>21521</td>\n",
       "      <td>0</td>\n",
       "      <td>343937.404131</td>\n",
       "      <td>67</td>\n",
       "      <td>среднее</td>\n",
       "      <td>1</td>\n",
       "      <td>женат / замужем</td>\n",
       "      <td>0</td>\n",
       "      <td>F</td>\n",
       "      <td>пенсионер</td>\n",
       "      <td>0</td>\n",
       "      <td>155999.806512</td>\n",
       "      <td>сделка с автомобилем</td>\n",
       "    </tr>\n",
       "    <tr>\n",
       "      <td>21522</td>\n",
       "      <td>1</td>\n",
       "      <td>-2113.346888</td>\n",
       "      <td>38</td>\n",
       "      <td>среднее</td>\n",
       "      <td>1</td>\n",
       "      <td>гражданский брак</td>\n",
       "      <td>1</td>\n",
       "      <td>M</td>\n",
       "      <td>сотрудник</td>\n",
       "      <td>1</td>\n",
       "      <td>89672.561153</td>\n",
       "      <td>недвижимость</td>\n",
       "    </tr>\n",
       "    <tr>\n",
       "      <td>21523</td>\n",
       "      <td>3</td>\n",
       "      <td>-3112.481705</td>\n",
       "      <td>38</td>\n",
       "      <td>среднее</td>\n",
       "      <td>1</td>\n",
       "      <td>женат / замужем</td>\n",
       "      <td>0</td>\n",
       "      <td>M</td>\n",
       "      <td>сотрудник</td>\n",
       "      <td>1</td>\n",
       "      <td>244093.050500</td>\n",
       "      <td>на покупку своего автомобиля</td>\n",
       "    </tr>\n",
       "    <tr>\n",
       "      <td>21524</td>\n",
       "      <td>2</td>\n",
       "      <td>-1984.507589</td>\n",
       "      <td>40</td>\n",
       "      <td>среднее</td>\n",
       "      <td>1</td>\n",
       "      <td>женат / замужем</td>\n",
       "      <td>0</td>\n",
       "      <td>F</td>\n",
       "      <td>сотрудник</td>\n",
       "      <td>0</td>\n",
       "      <td>82047.418899</td>\n",
       "      <td>на покупку автомобиля</td>\n",
       "    </tr>\n",
       "  </tbody>\n",
       "</table>\n",
       "<p>21525 rows × 12 columns</p>\n",
       "</div>"
      ],
      "text/plain": [
       "       children  days_employed  dob_years education  education_id  \\\n",
       "0             1   -8437.673028         42    высшее             0   \n",
       "1             1   -4024.803754         36   среднее             1   \n",
       "2             0   -5623.422610         33   Среднее             1   \n",
       "3             3   -4124.747207         32   среднее             1   \n",
       "4             0  340266.072047         53   среднее             1   \n",
       "...         ...            ...        ...       ...           ...   \n",
       "21520         1   -4529.316663         43   среднее             1   \n",
       "21521         0  343937.404131         67   среднее             1   \n",
       "21522         1   -2113.346888         38   среднее             1   \n",
       "21523         3   -3112.481705         38   среднее             1   \n",
       "21524         2   -1984.507589         40   среднее             1   \n",
       "\n",
       "          family_status  family_status_id gender income_type  debt  \\\n",
       "0       женат / замужем                 0      F   сотрудник     0   \n",
       "1       женат / замужем                 0      F   сотрудник     0   \n",
       "2       женат / замужем                 0      M   сотрудник     0   \n",
       "3       женат / замужем                 0      M   сотрудник     0   \n",
       "4      гражданский брак                 1      F   пенсионер     0   \n",
       "...                 ...               ...    ...         ...   ...   \n",
       "21520  гражданский брак                 1      F   компаньон     0   \n",
       "21521   женат / замужем                 0      F   пенсионер     0   \n",
       "21522  гражданский брак                 1      M   сотрудник     1   \n",
       "21523   женат / замужем                 0      M   сотрудник     1   \n",
       "21524   женат / замужем                 0      F   сотрудник     0   \n",
       "\n",
       "        total_income                       purpose  \n",
       "0      253875.639453                 покупка жилья  \n",
       "1      112080.014102       приобретение автомобиля  \n",
       "2      145885.952297                 покупка жилья  \n",
       "3      267628.550329    дополнительное образование  \n",
       "4      158616.077870               сыграть свадьбу  \n",
       "...              ...                           ...  \n",
       "21520  224791.862382             операции с жильем  \n",
       "21521  155999.806512          сделка с автомобилем  \n",
       "21522   89672.561153                  недвижимость  \n",
       "21523  244093.050500  на покупку своего автомобиля  \n",
       "21524   82047.418899         на покупку автомобиля  \n",
       "\n",
       "[21525 rows x 12 columns]"
      ]
     },
     "execution_count": 5,
     "metadata": {},
     "output_type": "execute_result"
    }
   ],
   "source": [
    "df"
   ]
  },
  {
   "cell_type": "code",
   "execution_count": 6,
   "metadata": {},
   "outputs": [
    {
     "data": {
      "text/html": [
       "<div>\n",
       "<style scoped>\n",
       "    .dataframe tbody tr th:only-of-type {\n",
       "        vertical-align: middle;\n",
       "    }\n",
       "\n",
       "    .dataframe tbody tr th {\n",
       "        vertical-align: top;\n",
       "    }\n",
       "\n",
       "    .dataframe thead th {\n",
       "        text-align: right;\n",
       "    }\n",
       "</style>\n",
       "<table border=\"1\" class=\"dataframe\">\n",
       "  <thead>\n",
       "    <tr style=\"text-align: right;\">\n",
       "      <th></th>\n",
       "      <th>children</th>\n",
       "      <th>days_employed</th>\n",
       "      <th>dob_years</th>\n",
       "      <th>education_id</th>\n",
       "      <th>family_status_id</th>\n",
       "      <th>debt</th>\n",
       "      <th>total_income</th>\n",
       "    </tr>\n",
       "  </thead>\n",
       "  <tbody>\n",
       "    <tr>\n",
       "      <td>count</td>\n",
       "      <td>21525.000000</td>\n",
       "      <td>19351.000000</td>\n",
       "      <td>21525.000000</td>\n",
       "      <td>21525.000000</td>\n",
       "      <td>21525.000000</td>\n",
       "      <td>21525.000000</td>\n",
       "      <td>1.935100e+04</td>\n",
       "    </tr>\n",
       "    <tr>\n",
       "      <td>mean</td>\n",
       "      <td>0.538908</td>\n",
       "      <td>63046.497661</td>\n",
       "      <td>43.293380</td>\n",
       "      <td>0.817236</td>\n",
       "      <td>0.972544</td>\n",
       "      <td>0.080883</td>\n",
       "      <td>1.674223e+05</td>\n",
       "    </tr>\n",
       "    <tr>\n",
       "      <td>std</td>\n",
       "      <td>1.381587</td>\n",
       "      <td>140827.311974</td>\n",
       "      <td>12.574584</td>\n",
       "      <td>0.548138</td>\n",
       "      <td>1.420324</td>\n",
       "      <td>0.272661</td>\n",
       "      <td>1.029716e+05</td>\n",
       "    </tr>\n",
       "    <tr>\n",
       "      <td>min</td>\n",
       "      <td>-1.000000</td>\n",
       "      <td>-18388.949901</td>\n",
       "      <td>0.000000</td>\n",
       "      <td>0.000000</td>\n",
       "      <td>0.000000</td>\n",
       "      <td>0.000000</td>\n",
       "      <td>2.066726e+04</td>\n",
       "    </tr>\n",
       "    <tr>\n",
       "      <td>25%</td>\n",
       "      <td>0.000000</td>\n",
       "      <td>-2747.423625</td>\n",
       "      <td>33.000000</td>\n",
       "      <td>1.000000</td>\n",
       "      <td>0.000000</td>\n",
       "      <td>0.000000</td>\n",
       "      <td>1.030532e+05</td>\n",
       "    </tr>\n",
       "    <tr>\n",
       "      <td>50%</td>\n",
       "      <td>0.000000</td>\n",
       "      <td>-1203.369529</td>\n",
       "      <td>42.000000</td>\n",
       "      <td>1.000000</td>\n",
       "      <td>0.000000</td>\n",
       "      <td>0.000000</td>\n",
       "      <td>1.450179e+05</td>\n",
       "    </tr>\n",
       "    <tr>\n",
       "      <td>75%</td>\n",
       "      <td>1.000000</td>\n",
       "      <td>-291.095954</td>\n",
       "      <td>53.000000</td>\n",
       "      <td>1.000000</td>\n",
       "      <td>1.000000</td>\n",
       "      <td>0.000000</td>\n",
       "      <td>2.034351e+05</td>\n",
       "    </tr>\n",
       "    <tr>\n",
       "      <td>max</td>\n",
       "      <td>20.000000</td>\n",
       "      <td>401755.400475</td>\n",
       "      <td>75.000000</td>\n",
       "      <td>4.000000</td>\n",
       "      <td>4.000000</td>\n",
       "      <td>1.000000</td>\n",
       "      <td>2.265604e+06</td>\n",
       "    </tr>\n",
       "  </tbody>\n",
       "</table>\n",
       "</div>"
      ],
      "text/plain": [
       "           children  days_employed     dob_years  education_id  \\\n",
       "count  21525.000000   19351.000000  21525.000000  21525.000000   \n",
       "mean       0.538908   63046.497661     43.293380      0.817236   \n",
       "std        1.381587  140827.311974     12.574584      0.548138   \n",
       "min       -1.000000  -18388.949901      0.000000      0.000000   \n",
       "25%        0.000000   -2747.423625     33.000000      1.000000   \n",
       "50%        0.000000   -1203.369529     42.000000      1.000000   \n",
       "75%        1.000000    -291.095954     53.000000      1.000000   \n",
       "max       20.000000  401755.400475     75.000000      4.000000   \n",
       "\n",
       "       family_status_id          debt  total_income  \n",
       "count      21525.000000  21525.000000  1.935100e+04  \n",
       "mean           0.972544      0.080883  1.674223e+05  \n",
       "std            1.420324      0.272661  1.029716e+05  \n",
       "min            0.000000      0.000000  2.066726e+04  \n",
       "25%            0.000000      0.000000  1.030532e+05  \n",
       "50%            0.000000      0.000000  1.450179e+05  \n",
       "75%            1.000000      0.000000  2.034351e+05  \n",
       "max            4.000000      1.000000  2.265604e+06  "
      ]
     },
     "execution_count": 6,
     "metadata": {},
     "output_type": "execute_result"
    }
   ],
   "source": [
    "df.describe()"
   ]
  },
  {
   "cell_type": "code",
   "execution_count": 7,
   "metadata": {},
   "outputs": [
    {
     "name": "stdout",
     "output_type": "stream",
     "text": [
      "<class 'pandas.core.frame.DataFrame'>\n",
      "RangeIndex: 21525 entries, 0 to 21524\n",
      "Data columns (total 12 columns):\n",
      "children            21525 non-null int64\n",
      "days_employed       19351 non-null float64\n",
      "dob_years           21525 non-null int64\n",
      "education           21525 non-null object\n",
      "education_id        21525 non-null int64\n",
      "family_status       21525 non-null object\n",
      "family_status_id    21525 non-null int64\n",
      "gender              21525 non-null object\n",
      "income_type         21525 non-null object\n",
      "debt                21525 non-null int64\n",
      "total_income        19351 non-null float64\n",
      "purpose             21525 non-null object\n",
      "dtypes: float64(2), int64(5), object(5)\n",
      "memory usage: 2.0+ MB\n"
     ]
    }
   ],
   "source": [
    "df.info()"
   ]
  },
  {
   "cell_type": "code",
   "execution_count": 8,
   "metadata": {},
   "outputs": [],
   "source": [
    "df['children'] = df['children'].apply(abs)"
   ]
  },
  {
   "cell_type": "code",
   "execution_count": 9,
   "metadata": {},
   "outputs": [],
   "source": [
    "df['days_employed'] = df['days_employed'].apply(abs)"
   ]
  },
  {
   "cell_type": "code",
   "execution_count": 10,
   "metadata": {},
   "outputs": [
    {
     "name": "stdout",
     "output_type": "stream",
     "text": [
      "0     14149\n",
      "1      4865\n",
      "2      2055\n",
      "3       330\n",
      "20       76\n",
      "4        41\n",
      "5         9\n",
      "Name: children, dtype: int64\n"
     ]
    }
   ],
   "source": [
    "print(df['children'].value_counts()) "
   ]
  },
  {
   "cell_type": "code",
   "execution_count": 11,
   "metadata": {},
   "outputs": [],
   "source": [
    "def conversion_children_count(df):\n",
    "    if df['children'] == 20:\n",
    "        return 2\n",
    "    else:\n",
    "        return df['children']\n",
    " \n",
    " \n",
    "df['children'] = df.apply(conversion_children_count, axis=1)"
   ]
  },
  {
   "cell_type": "markdown",
   "metadata": {},
   "source": [
    "### Вывод"
   ]
  },
  {
   "cell_type": "markdown",
   "metadata": {},
   "source": [
    "1. После применения метода df.describe() видно, что в данных есть аномальные / \"необычные\" значения: \n",
    "\n",
    "1) 20 детей у нескольких заемщиков \n",
    "2) минимальное значение в 'children' -1 ребенок \n",
    "3) Отрицательные значения в столбце days_employed, где указано количество дней стажа и среднее значение 63046 дня,  то есть 172,7 лет стажа.\n",
    "\n",
    "2. После применения метода df.info() видно, что есть пропущенные значения в столбцах days_employed (количество дней стажа) и total_income (доход). Возможно, это техническая ошибка или клиент по каким-то причинам решил скрыть эти данные. Мы не можем оставить эти значения не заполненными, так как нам нужно создать модель кредитного скоринга, а пропуски могут исказить окончательное решение - одобрить кредит или нет.\n",
    "\n",
    "3.Для удобства дальнейшей работы сразу заменила отрицательные значения на значения по модулю.\n",
    "\n",
    "4. Скорее всего, 20 детей у нескольких заемщиков (76 человек) это техническая ошибка при вводе, к тому же нет заемщиков с 5+ количеством детей, написала функцию, которая заменяет \"20\" на \"2\".\n",
    "\n",
    "5. В оригинальном датафрейме значения в столбцах 'days_employed' и 'total_income' дробные, это вещественный тип данных float64 (видно из метода info(), что неудобно для восприятия и дальнейшей работы - заменим на целые числа."
   ]
  },
  {
   "cell_type": "markdown",
   "metadata": {},
   "source": [
    "### Шаг 2. Предобработка данных"
   ]
  },
  {
   "cell_type": "markdown",
   "metadata": {},
   "source": [
    "### Обработка пропусков"
   ]
  },
  {
   "cell_type": "code",
   "execution_count": 12,
   "metadata": {
    "scrolled": true
   },
   "outputs": [
    {
     "name": "stdout",
     "output_type": "stream",
     "text": [
      "children            2174\n",
      "days_employed          0\n",
      "dob_years           2174\n",
      "education           2174\n",
      "education_id        2174\n",
      "family_status       2174\n",
      "family_status_id    2174\n",
      "gender              2174\n",
      "income_type         2174\n",
      "debt                2174\n",
      "total_income           0\n",
      "purpose             2174\n",
      "dtype: int64\n"
     ]
    }
   ],
   "source": [
    "print(df[df['days_employed'].isnull()].count()) "
   ]
  },
  {
   "cell_type": "markdown",
   "metadata": {},
   "source": [
    "В 2 174 строках нет значений в столбцах 'days_employed' и 'total_income'."
   ]
  },
  {
   "cell_type": "code",
   "execution_count": 13,
   "metadata": {},
   "outputs": [],
   "source": [
    "df['days_employed'] = df['days_employed'].fillna(df.groupby('income_type')['days_employed'].transform('median')) "
   ]
  },
  {
   "cell_type": "code",
   "execution_count": 14,
   "metadata": {},
   "outputs": [],
   "source": [
    "df['total_income'] = df['total_income'].fillna(df.groupby('income_type')['total_income'].transform('median'))"
   ]
  },
  {
   "cell_type": "code",
   "execution_count": 15,
   "metadata": {},
   "outputs": [
    {
     "name": "stdout",
     "output_type": "stream",
     "text": [
      "<class 'pandas.core.frame.DataFrame'>\n",
      "RangeIndex: 21525 entries, 0 to 21524\n",
      "Data columns (total 12 columns):\n",
      "children            21525 non-null int64\n",
      "days_employed       21525 non-null float64\n",
      "dob_years           21525 non-null int64\n",
      "education           21525 non-null object\n",
      "education_id        21525 non-null int64\n",
      "family_status       21525 non-null object\n",
      "family_status_id    21525 non-null int64\n",
      "gender              21525 non-null object\n",
      "income_type         21525 non-null object\n",
      "debt                21525 non-null int64\n",
      "total_income        21525 non-null float64\n",
      "purpose             21525 non-null object\n",
      "dtypes: float64(2), int64(5), object(5)\n",
      "memory usage: 2.0+ MB\n"
     ]
    }
   ],
   "source": [
    "df.info()"
   ]
  },
  {
   "cell_type": "markdown",
   "metadata": {},
   "source": [
    "### Вывод"
   ]
  },
  {
   "cell_type": "markdown",
   "metadata": {},
   "source": [
    "Так как метод describe() показал довольно большой разброс между минимальным и максимальным значениями в столбцах\n",
    "'days_employed' и 'total_income', то мы не можем заменить пропуски средним значением по столбцу, это будет слишком\n",
    "грубая оценка, нужно заменить пропуски на медиану. Запускаем метод info(), все ячейки теперь заполнены."
   ]
  },
  {
   "cell_type": "markdown",
   "metadata": {},
   "source": [
    "### Замена типа данных"
   ]
  },
  {
   "cell_type": "code",
   "execution_count": 16,
   "metadata": {},
   "outputs": [],
   "source": [
    "df['days_employed'] = df['days_employed'].astype(int)"
   ]
  },
  {
   "cell_type": "code",
   "execution_count": 17,
   "metadata": {},
   "outputs": [],
   "source": [
    "df['total_income'] = df['total_income'].astype(int)"
   ]
  },
  {
   "cell_type": "code",
   "execution_count": 18,
   "metadata": {},
   "outputs": [
    {
     "name": "stdout",
     "output_type": "stream",
     "text": [
      "<class 'pandas.core.frame.DataFrame'>\n",
      "RangeIndex: 21525 entries, 0 to 21524\n",
      "Data columns (total 12 columns):\n",
      "children            21525 non-null int64\n",
      "days_employed       21525 non-null int64\n",
      "dob_years           21525 non-null int64\n",
      "education           21525 non-null object\n",
      "education_id        21525 non-null int64\n",
      "family_status       21525 non-null object\n",
      "family_status_id    21525 non-null int64\n",
      "gender              21525 non-null object\n",
      "income_type         21525 non-null object\n",
      "debt                21525 non-null int64\n",
      "total_income        21525 non-null int64\n",
      "purpose             21525 non-null object\n",
      "dtypes: int64(7), object(5)\n",
      "memory usage: 2.0+ MB\n"
     ]
    }
   ],
   "source": [
    "df.info()"
   ]
  },
  {
   "cell_type": "markdown",
   "metadata": {},
   "source": [
    "### Вывод"
   ]
  },
  {
   "cell_type": "markdown",
   "metadata": {},
   "source": [
    "Так как нам нужно перевести вещественные числа в целые, применяем метод astype() и параметр int - integer(целое число), метод to_numeric() нам не подойдет, потому что после его применения числа получают тип данных float. После применения метода info() видим, что в нужных столбцах тип данных поменялся на int64."
   ]
  },
  {
   "cell_type": "markdown",
   "metadata": {},
   "source": [
    "### Обработка дубликатов"
   ]
  },
  {
   "cell_type": "code",
   "execution_count": 19,
   "metadata": {},
   "outputs": [
    {
     "data": {
      "text/plain": [
       "54"
      ]
     },
     "execution_count": 19,
     "metadata": {},
     "output_type": "execute_result"
    }
   ],
   "source": [
    "df.duplicated().sum()"
   ]
  },
  {
   "cell_type": "markdown",
   "metadata": {},
   "source": [
    "Применила стандартный метод duplicated для поиска дубликатов, нашла их общее количество. Ниже вывела их на экран, выглядят действительно как дубли данных. Возможные причины появления дубликатов: техническая ошибка/ задвоение данных или заемщик подавал заявку на кредит несколько раз, указывал разные цели. Дубликаты удаляют потому, что они могут исказить финальный итог нашего исследования."
   ]
  },
  {
   "cell_type": "code",
   "execution_count": 20,
   "metadata": {},
   "outputs": [
    {
     "data": {
      "text/html": [
       "<div>\n",
       "<style scoped>\n",
       "    .dataframe tbody tr th:only-of-type {\n",
       "        vertical-align: middle;\n",
       "    }\n",
       "\n",
       "    .dataframe tbody tr th {\n",
       "        vertical-align: top;\n",
       "    }\n",
       "\n",
       "    .dataframe thead th {\n",
       "        text-align: right;\n",
       "    }\n",
       "</style>\n",
       "<table border=\"1\" class=\"dataframe\">\n",
       "  <thead>\n",
       "    <tr style=\"text-align: right;\">\n",
       "      <th></th>\n",
       "      <th>children</th>\n",
       "      <th>days_employed</th>\n",
       "      <th>dob_years</th>\n",
       "      <th>education</th>\n",
       "      <th>education_id</th>\n",
       "      <th>family_status</th>\n",
       "      <th>family_status_id</th>\n",
       "      <th>gender</th>\n",
       "      <th>income_type</th>\n",
       "      <th>debt</th>\n",
       "      <th>total_income</th>\n",
       "      <th>purpose</th>\n",
       "    </tr>\n",
       "  </thead>\n",
       "  <tbody>\n",
       "    <tr>\n",
       "      <td>1005</td>\n",
       "      <td>0</td>\n",
       "      <td>365213</td>\n",
       "      <td>62</td>\n",
       "      <td>среднее</td>\n",
       "      <td>1</td>\n",
       "      <td>женат / замужем</td>\n",
       "      <td>0</td>\n",
       "      <td>F</td>\n",
       "      <td>пенсионер</td>\n",
       "      <td>0</td>\n",
       "      <td>118514</td>\n",
       "      <td>ремонт жилью</td>\n",
       "    </tr>\n",
       "    <tr>\n",
       "      <td>1191</td>\n",
       "      <td>0</td>\n",
       "      <td>365213</td>\n",
       "      <td>61</td>\n",
       "      <td>среднее</td>\n",
       "      <td>1</td>\n",
       "      <td>женат / замужем</td>\n",
       "      <td>0</td>\n",
       "      <td>F</td>\n",
       "      <td>пенсионер</td>\n",
       "      <td>0</td>\n",
       "      <td>118514</td>\n",
       "      <td>операции с недвижимостью</td>\n",
       "    </tr>\n",
       "    <tr>\n",
       "      <td>1511</td>\n",
       "      <td>0</td>\n",
       "      <td>365213</td>\n",
       "      <td>58</td>\n",
       "      <td>высшее</td>\n",
       "      <td>0</td>\n",
       "      <td>Не женат / не замужем</td>\n",
       "      <td>4</td>\n",
       "      <td>F</td>\n",
       "      <td>пенсионер</td>\n",
       "      <td>0</td>\n",
       "      <td>118514</td>\n",
       "      <td>дополнительное образование</td>\n",
       "    </tr>\n",
       "    <tr>\n",
       "      <td>1681</td>\n",
       "      <td>0</td>\n",
       "      <td>365213</td>\n",
       "      <td>57</td>\n",
       "      <td>среднее</td>\n",
       "      <td>1</td>\n",
       "      <td>гражданский брак</td>\n",
       "      <td>1</td>\n",
       "      <td>F</td>\n",
       "      <td>пенсионер</td>\n",
       "      <td>0</td>\n",
       "      <td>118514</td>\n",
       "      <td>на проведение свадьбы</td>\n",
       "    </tr>\n",
       "    <tr>\n",
       "      <td>2052</td>\n",
       "      <td>0</td>\n",
       "      <td>365213</td>\n",
       "      <td>58</td>\n",
       "      <td>среднее</td>\n",
       "      <td>1</td>\n",
       "      <td>гражданский брак</td>\n",
       "      <td>1</td>\n",
       "      <td>F</td>\n",
       "      <td>пенсионер</td>\n",
       "      <td>0</td>\n",
       "      <td>118514</td>\n",
       "      <td>сыграть свадьбу</td>\n",
       "    </tr>\n",
       "    <tr>\n",
       "      <td>...</td>\n",
       "      <td>...</td>\n",
       "      <td>...</td>\n",
       "      <td>...</td>\n",
       "      <td>...</td>\n",
       "      <td>...</td>\n",
       "      <td>...</td>\n",
       "      <td>...</td>\n",
       "      <td>...</td>\n",
       "      <td>...</td>\n",
       "      <td>...</td>\n",
       "      <td>...</td>\n",
       "      <td>...</td>\n",
       "    </tr>\n",
       "    <tr>\n",
       "      <td>10697</td>\n",
       "      <td>0</td>\n",
       "      <td>1547</td>\n",
       "      <td>40</td>\n",
       "      <td>среднее</td>\n",
       "      <td>1</td>\n",
       "      <td>гражданский брак</td>\n",
       "      <td>1</td>\n",
       "      <td>F</td>\n",
       "      <td>компаньон</td>\n",
       "      <td>0</td>\n",
       "      <td>172357</td>\n",
       "      <td>сыграть свадьбу</td>\n",
       "    </tr>\n",
       "    <tr>\n",
       "      <td>13878</td>\n",
       "      <td>1</td>\n",
       "      <td>1547</td>\n",
       "      <td>31</td>\n",
       "      <td>среднее</td>\n",
       "      <td>1</td>\n",
       "      <td>женат / замужем</td>\n",
       "      <td>0</td>\n",
       "      <td>F</td>\n",
       "      <td>компаньон</td>\n",
       "      <td>0</td>\n",
       "      <td>172357</td>\n",
       "      <td>покупка жилья</td>\n",
       "    </tr>\n",
       "    <tr>\n",
       "      <td>17379</td>\n",
       "      <td>0</td>\n",
       "      <td>1547</td>\n",
       "      <td>54</td>\n",
       "      <td>высшее</td>\n",
       "      <td>0</td>\n",
       "      <td>женат / замужем</td>\n",
       "      <td>0</td>\n",
       "      <td>M</td>\n",
       "      <td>компаньон</td>\n",
       "      <td>0</td>\n",
       "      <td>172357</td>\n",
       "      <td>операции с коммерческой недвижимостью</td>\n",
       "    </tr>\n",
       "    <tr>\n",
       "      <td>17774</td>\n",
       "      <td>1</td>\n",
       "      <td>1547</td>\n",
       "      <td>40</td>\n",
       "      <td>среднее</td>\n",
       "      <td>1</td>\n",
       "      <td>гражданский брак</td>\n",
       "      <td>1</td>\n",
       "      <td>F</td>\n",
       "      <td>компаньон</td>\n",
       "      <td>0</td>\n",
       "      <td>172357</td>\n",
       "      <td>строительство жилой недвижимости</td>\n",
       "    </tr>\n",
       "    <tr>\n",
       "      <td>19387</td>\n",
       "      <td>0</td>\n",
       "      <td>1547</td>\n",
       "      <td>38</td>\n",
       "      <td>высшее</td>\n",
       "      <td>0</td>\n",
       "      <td>гражданский брак</td>\n",
       "      <td>1</td>\n",
       "      <td>F</td>\n",
       "      <td>компаньон</td>\n",
       "      <td>0</td>\n",
       "      <td>172357</td>\n",
       "      <td>на проведение свадьбы</td>\n",
       "    </tr>\n",
       "  </tbody>\n",
       "</table>\n",
       "<p>106 rows × 12 columns</p>\n",
       "</div>"
      ],
      "text/plain": [
       "       children  days_employed  dob_years education  education_id  \\\n",
       "1005          0         365213         62   среднее             1   \n",
       "1191          0         365213         61   среднее             1   \n",
       "1511          0         365213         58    высшее             0   \n",
       "1681          0         365213         57   среднее             1   \n",
       "2052          0         365213         58   среднее             1   \n",
       "...         ...            ...        ...       ...           ...   \n",
       "10697         0           1547         40   среднее             1   \n",
       "13878         1           1547         31   среднее             1   \n",
       "17379         0           1547         54    высшее             0   \n",
       "17774         1           1547         40   среднее             1   \n",
       "19387         0           1547         38    высшее             0   \n",
       "\n",
       "               family_status  family_status_id gender income_type  debt  \\\n",
       "1005         женат / замужем                 0      F   пенсионер     0   \n",
       "1191         женат / замужем                 0      F   пенсионер     0   \n",
       "1511   Не женат / не замужем                 4      F   пенсионер     0   \n",
       "1681        гражданский брак                 1      F   пенсионер     0   \n",
       "2052        гражданский брак                 1      F   пенсионер     0   \n",
       "...                      ...               ...    ...         ...   ...   \n",
       "10697       гражданский брак                 1      F   компаньон     0   \n",
       "13878        женат / замужем                 0      F   компаньон     0   \n",
       "17379        женат / замужем                 0      M   компаньон     0   \n",
       "17774       гражданский брак                 1      F   компаньон     0   \n",
       "19387       гражданский брак                 1      F   компаньон     0   \n",
       "\n",
       "       total_income                                purpose  \n",
       "1005         118514                           ремонт жилью  \n",
       "1191         118514               операции с недвижимостью  \n",
       "1511         118514             дополнительное образование  \n",
       "1681         118514                  на проведение свадьбы  \n",
       "2052         118514                        сыграть свадьбу  \n",
       "...             ...                                    ...  \n",
       "10697        172357                        сыграть свадьбу  \n",
       "13878        172357                          покупка жилья  \n",
       "17379        172357  операции с коммерческой недвижимостью  \n",
       "17774        172357       строительство жилой недвижимости  \n",
       "19387        172357                  на проведение свадьбы  \n",
       "\n",
       "[106 rows x 12 columns]"
      ]
     },
     "execution_count": 20,
     "metadata": {},
     "output_type": "execute_result"
    }
   ],
   "source": [
    "df[df.duplicated(keep=False)].sort_values(by=['total_income', 'days_employed'])"
   ]
  },
  {
   "cell_type": "code",
   "execution_count": 21,
   "metadata": {},
   "outputs": [],
   "source": [
    "df = df.drop_duplicates()"
   ]
  },
  {
   "cell_type": "code",
   "execution_count": 22,
   "metadata": {},
   "outputs": [
    {
     "data": {
      "text/plain": [
       "0"
      ]
     },
     "execution_count": 22,
     "metadata": {},
     "output_type": "execute_result"
    }
   ],
   "source": [
    "df.duplicated().sum()"
   ]
  },
  {
   "cell_type": "markdown",
   "metadata": {},
   "source": [
    "### Вывод"
   ]
  },
  {
   "cell_type": "markdown",
   "metadata": {},
   "source": [
    "Удалила дубликаты с помощью стандартного метода drop_duplicates() и проверила, что они были удалены из датафрейма, вызвав метод df.duplicated().sum()."
   ]
  },
  {
   "cell_type": "markdown",
   "metadata": {},
   "source": [
    "### Лемматизация"
   ]
  },
  {
   "cell_type": "code",
   "execution_count": 23,
   "metadata": {},
   "outputs": [
    {
     "name": "stderr",
     "output_type": "stream",
     "text": [
      "/opt/conda/lib/python3.7/site-packages/ipykernel_launcher.py:3: SettingWithCopyWarning: \n",
      "A value is trying to be set on a copy of a slice from a DataFrame.\n",
      "Try using .loc[row_indexer,col_indexer] = value instead\n",
      "\n",
      "See the caveats in the documentation: http://pandas.pydata.org/pandas-docs/stable/user_guide/indexing.html#returning-a-view-versus-a-copy\n",
      "  This is separate from the ipykernel package so we can avoid doing imports until\n"
     ]
    },
    {
     "name": "stdout",
     "output_type": "stream",
     "text": [
      "Counter({' ': 55066, 'недвижимость': 6353, 'покупка': 5900, 'жилье': 4461, 'автомобиль': 4308, 'образование': 4014, 'с': 2918, 'операция': 2604, 'свадьба': 2335, 'свой': 2231, 'на': 2228, 'строительство': 1879, 'высокий': 1374, 'получение': 1315, 'коммерческий': 1312, 'для': 1290, 'жилой': 1231, 'сделка': 941, 'дополнительный': 907, 'заниматься': 904, 'подержать': 853, 'проведение': 773, 'сыграть': 769, 'сдача': 652, 'семья': 638, 'собственный': 635, 'со': 627, 'ремонт': 607, 'приобретение': 461, 'профильный': 436, 'подержанный': 111, '\\n': 1})\n"
     ]
    }
   ],
   "source": [
    "m = Mystem() \n",
    "\n",
    "df['lemmas'] = df['purpose'].apply(m.lemmatize)\n",
    "#print(df['lemmas'])\n",
    "print(Counter(m.lemmatize(' '.join(df['purpose']))))\n",
    "\n",
    "\n",
    "\n",
    "\n"
   ]
  },
  {
   "cell_type": "markdown",
   "metadata": {},
   "source": [
    "### Вывод"
   ]
  },
  {
   "cell_type": "markdown",
   "metadata": {},
   "source": [
    "### Категоризация данных"
   ]
  },
  {
   "cell_type": "markdown",
   "metadata": {},
   "source": [
    "Категоризация по столбцу 'children'"
   ]
  },
  {
   "cell_type": "code",
   "execution_count": 24,
   "metadata": {},
   "outputs": [
    {
     "name": "stdout",
     "output_type": "stream",
     "text": [
      "0    14107\n",
      "1     4856\n",
      "2     2128\n",
      "3      330\n",
      "4       41\n",
      "5        9\n",
      "Name: children, dtype: int64\n"
     ]
    }
   ],
   "source": [
    "print(df['children'].value_counts())"
   ]
  },
  {
   "cell_type": "code",
   "execution_count": 25,
   "metadata": {},
   "outputs": [],
   "source": [
    "def amount_children_group(children):\n",
    "        \n",
    "        if children < 1:\n",
    "                return 'нет детей'\n",
    "        if children > 2:\n",
    "                return 'многодетные'\n",
    "        return '1-2 ребенка' "
   ]
  },
  {
   "cell_type": "code",
   "execution_count": 26,
   "metadata": {},
   "outputs": [
    {
     "name": "stdout",
     "output_type": "stream",
     "text": [
      "многодетные\n"
     ]
    }
   ],
   "source": [
    "print(amount_children_group(4)) "
   ]
  },
  {
   "cell_type": "code",
   "execution_count": 27,
   "metadata": {},
   "outputs": [
    {
     "name": "stderr",
     "output_type": "stream",
     "text": [
      "/opt/conda/lib/python3.7/site-packages/ipykernel_launcher.py:1: SettingWithCopyWarning: \n",
      "A value is trying to be set on a copy of a slice from a DataFrame.\n",
      "Try using .loc[row_indexer,col_indexer] = value instead\n",
      "\n",
      "See the caveats in the documentation: http://pandas.pydata.org/pandas-docs/stable/user_guide/indexing.html#returning-a-view-versus-a-copy\n",
      "  \"\"\"Entry point for launching an IPython kernel.\n"
     ]
    }
   ],
   "source": [
    "df['amount_children_group'] = df['children'].apply(amount_children_group) "
   ]
  },
  {
   "cell_type": "markdown",
   "metadata": {},
   "source": [
    "Категоризация по доходам"
   ]
  },
  {
   "cell_type": "markdown",
   "metadata": {},
   "source": [
    "Исходя из того, что мы знаем квантили распределения по доходу (из метода describe()), разобьем значения в столбце 'total_income' на 4 равные группы с помощью метода qcut.  Этот метод делит совокупность на равные группы, в отличие от метода cut"
   ]
  },
  {
   "cell_type": "code",
   "execution_count": 28,
   "metadata": {},
   "outputs": [],
   "source": [
    "#df['income_amount_group'] = pd.qcut(df['total_income'], 4)"
   ]
  },
  {
   "cell_type": "code",
   "execution_count": 29,
   "metadata": {},
   "outputs": [],
   "source": [
    "#df.groupby('income_amount_group')['debt'].agg(['count', 'mean'])"
   ]
  },
  {
   "cell_type": "markdown",
   "metadata": {},
   "source": [
    "**После применения метода groupby видим, что у нас есть 4 примерно одинаковых группы по величине дохода, каждая по 5200-5400 человек.\n",
    "Напишем функцию, в которую передадим значения этих 4 групп по уровню дохода**."
   ]
  },
  {
   "cell_type": "code",
   "execution_count": 30,
   "metadata": {},
   "outputs": [],
   "source": [
    "def total_income_group(total_income):\n",
    "        \n",
    "        if 20000 <= total_income < 110000:\n",
    "                return 'доход 20 000-110 000'\n",
    "        if 110000 <= total_income < 150000:\n",
    "                return 'доход 110 000-150 000'\n",
    "        if 150000 <= total_income <= 200000:\n",
    "                return 'доход 150 000-200 000'\n",
    "        if total_income > 200000:    \n",
    "                return 'доход выше 200 000' "
   ]
  },
  {
   "cell_type": "code",
   "execution_count": 31,
   "metadata": {},
   "outputs": [
    {
     "name": "stdout",
     "output_type": "stream",
     "text": [
      "доход выше 200 000\n"
     ]
    }
   ],
   "source": [
    "print(total_income_group(250000)) "
   ]
  },
  {
   "cell_type": "code",
   "execution_count": 32,
   "metadata": {},
   "outputs": [
    {
     "name": "stderr",
     "output_type": "stream",
     "text": [
      "/opt/conda/lib/python3.7/site-packages/ipykernel_launcher.py:1: SettingWithCopyWarning: \n",
      "A value is trying to be set on a copy of a slice from a DataFrame.\n",
      "Try using .loc[row_indexer,col_indexer] = value instead\n",
      "\n",
      "See the caveats in the documentation: http://pandas.pydata.org/pandas-docs/stable/user_guide/indexing.html#returning-a-view-versus-a-copy\n",
      "  \"\"\"Entry point for launching an IPython kernel.\n"
     ]
    }
   ],
   "source": [
    "df['total_income_group'] = df['total_income'].apply(total_income_group) "
   ]
  },
  {
   "cell_type": "markdown",
   "metadata": {},
   "source": [
    "<div style=\"border:solid green 2px; padding: 20px\"> <h1 style=\"color:green; margin-bottom:20px\">Комментарий ревьюера - 2</h1>\n",
    "Хорошо\n",
    "</div>"
   ]
  },
  {
   "cell_type": "code",
   "execution_count": 33,
   "metadata": {},
   "outputs": [
    {
     "name": "stdout",
     "output_type": "stream",
     "text": [
      "   children  days_employed  dob_years education  education_id  \\\n",
      "0         1           8437         42    высшее             0   \n",
      "1         1           4024         36   среднее             1   \n",
      "2         0           5623         33   Среднее             1   \n",
      "3         3           4124         32   среднее             1   \n",
      "4         0         340266         53   среднее             1   \n",
      "5         0            926         27    высшее             0   \n",
      "6         0           2879         43    высшее             0   \n",
      "7         0            152         50   СРЕДНЕЕ             1   \n",
      "8         2           6929         35    ВЫСШЕЕ             0   \n",
      "9         0           2188         41   среднее             1   \n",
      "\n",
      "      family_status  family_status_id gender income_type  debt  total_income  \\\n",
      "0   женат / замужем                 0      F   сотрудник     0        253875   \n",
      "1   женат / замужем                 0      F   сотрудник     0        112080   \n",
      "2   женат / замужем                 0      M   сотрудник     0        145885   \n",
      "3   женат / замужем                 0      M   сотрудник     0        267628   \n",
      "4  гражданский брак                 1      F   пенсионер     0        158616   \n",
      "5  гражданский брак                 1      M   компаньон     0        255763   \n",
      "6   женат / замужем                 0      F   компаньон     0        240525   \n",
      "7   женат / замужем                 0      M   сотрудник     0        135823   \n",
      "8  гражданский брак                 1      F   сотрудник     0         95856   \n",
      "9   женат / замужем                 0      M   сотрудник     0        144425   \n",
      "\n",
      "                      purpose                                     lemmas  \\\n",
      "0               покупка жилья                    [покупка,  , жилье, \\n]   \n",
      "1     приобретение автомобиля          [приобретение,  , автомобиль, \\n]   \n",
      "2               покупка жилья                    [покупка,  , жилье, \\n]   \n",
      "3  дополнительное образование       [дополнительный,  , образование, \\n]   \n",
      "4             сыграть свадьбу                  [сыграть,  , свадьба, \\n]   \n",
      "5               покупка жилья                    [покупка,  , жилье, \\n]   \n",
      "6           операции с жильем             [операция,  , с,  , жилье, \\n]   \n",
      "7                 образование                          [образование, \\n]   \n",
      "8       на проведение свадьбы        [на,  , проведение,  , свадьба, \\n]   \n",
      "9     покупка жилья для семьи  [покупка,  , жилье,  , для,  , семья, \\n]   \n",
      "\n",
      "  amount_children_group     total_income_group  \n",
      "0           1-2 ребенка     доход выше 200 000  \n",
      "1           1-2 ребенка  доход 110 000-150 000  \n",
      "2             нет детей  доход 110 000-150 000  \n",
      "3           многодетные     доход выше 200 000  \n",
      "4             нет детей  доход 150 000-200 000  \n",
      "5             нет детей     доход выше 200 000  \n",
      "6             нет детей     доход выше 200 000  \n",
      "7             нет детей  доход 110 000-150 000  \n",
      "8           1-2 ребенка   доход 20 000-110 000  \n",
      "9             нет детей  доход 110 000-150 000  \n"
     ]
    }
   ],
   "source": [
    "print(df.head(10))"
   ]
  },
  {
   "cell_type": "markdown",
   "metadata": {},
   "source": [
    "Категоризация по цели кредита"
   ]
  },
  {
   "cell_type": "markdown",
   "metadata": {},
   "source": [
    "При помощи Counter мы получили следующий список лемм:"
   ]
  },
  {
   "cell_type": "markdown",
   "metadata": {},
   "source": [
    "Counter({' ': 55066, \n",
    "'недвижимость': 6353,\n",
    "'покупка': 5900, \n",
    "'жилье': 4461, \n",
    "'автомобиль': 4308,\n",
    "'образование': 4014, \n",
    "'с': 2918,\n",
    "'операция': 2604, \n",
    "'свадьба': 2335,\n",
    "'свой': 2231, \n",
    "'на': 2228,\n",
    "'строительство': 1879,\n",
    "'высокий': 1374, \n",
    "'получение': 1315,\n",
    "'коммерческий': 1312,\n",
    "'для': 1290,\n",
    "'жилой': 1231, \n",
    "'сделка': 941,\n",
    "'дополнительный': 907,\n",
    "'заниматься': 904,\n",
    "'подержать': 853, \n",
    "'проведение': 773,\n",
    "'сыграть': 769, \n",
    "'сдача': 652, \n",
    "'семья': 638,\n",
    "'собственный': 635,\n",
    "'со': 627,\n",
    "'ремонт': 607,\n",
    "'приобретение': 461,\n",
    "'профильный': 436,\n",
    "'подержанный': 111,\n",
    "'\\n': 1})"
   ]
  },
  {
   "cell_type": "markdown",
   "metadata": {},
   "source": [
    "Выделим наиболее часто встречаемые леммы 'недвижимость' (6353), 'жилье' (4461), 'автомобиль' (4308),'образование' (4014), 'свадьба' (2335) и создадим функцию для классификации целей кредита. С появлением столбца 'lemmas' можем быстрее найти цель кредита по ключевым словам."
   ]
  },
  {
   "cell_type": "code",
   "execution_count": 34,
   "metadata": {},
   "outputs": [
    {
     "name": "stdout",
     "output_type": "stream",
     "text": [
      "   children  days_employed  dob_years education  education_id  \\\n",
      "0         1           8437         42    высшее             0   \n",
      "1         1           4024         36   среднее             1   \n",
      "2         0           5623         33   Среднее             1   \n",
      "3         3           4124         32   среднее             1   \n",
      "4         0         340266         53   среднее             1   \n",
      "5         0            926         27    высшее             0   \n",
      "6         0           2879         43    высшее             0   \n",
      "7         0            152         50   СРЕДНЕЕ             1   \n",
      "8         2           6929         35    ВЫСШЕЕ             0   \n",
      "9         0           2188         41   среднее             1   \n",
      "\n",
      "      family_status  family_status_id gender income_type  debt  total_income  \\\n",
      "0   женат / замужем                 0      F   сотрудник     0        253875   \n",
      "1   женат / замужем                 0      F   сотрудник     0        112080   \n",
      "2   женат / замужем                 0      M   сотрудник     0        145885   \n",
      "3   женат / замужем                 0      M   сотрудник     0        267628   \n",
      "4  гражданский брак                 1      F   пенсионер     0        158616   \n",
      "5  гражданский брак                 1      M   компаньон     0        255763   \n",
      "6   женат / замужем                 0      F   компаньон     0        240525   \n",
      "7   женат / замужем                 0      M   сотрудник     0        135823   \n",
      "8  гражданский брак                 1      F   сотрудник     0         95856   \n",
      "9   женат / замужем                 0      M   сотрудник     0        144425   \n",
      "\n",
      "                      purpose             lemmas amount_children_group  \\\n",
      "0               покупка жилья  ком. недвижимость           1-2 ребенка   \n",
      "1     приобретение автомобиля               авто           1-2 ребенка   \n",
      "2               покупка жилья  ком. недвижимость             нет детей   \n",
      "3  дополнительное образование        образование           многодетные   \n",
      "4             сыграть свадьбу            свадьба             нет детей   \n",
      "5               покупка жилья  ком. недвижимость             нет детей   \n",
      "6           операции с жильем  ком. недвижимость             нет детей   \n",
      "7                 образование        образование             нет детей   \n",
      "8       на проведение свадьбы            свадьба           1-2 ребенка   \n",
      "9     покупка жилья для семьи  ком. недвижимость             нет детей   \n",
      "\n",
      "      total_income_group  \n",
      "0     доход выше 200 000  \n",
      "1  доход 110 000-150 000  \n",
      "2  доход 110 000-150 000  \n",
      "3     доход выше 200 000  \n",
      "4  доход 150 000-200 000  \n",
      "5     доход выше 200 000  \n",
      "6     доход выше 200 000  \n",
      "7  доход 110 000-150 000  \n",
      "8   доход 20 000-110 000  \n",
      "9  доход 110 000-150 000  \n"
     ]
    },
    {
     "name": "stderr",
     "output_type": "stream",
     "text": [
      "/opt/conda/lib/python3.7/site-packages/ipykernel_launcher.py:10: SettingWithCopyWarning: \n",
      "A value is trying to be set on a copy of a slice from a DataFrame.\n",
      "Try using .loc[row_indexer,col_indexer] = value instead\n",
      "\n",
      "See the caveats in the documentation: http://pandas.pydata.org/pandas-docs/stable/user_guide/indexing.html#returning-a-view-versus-a-copy\n",
      "  # Remove the CWD from sys.path while we load stuff.\n"
     ]
    }
   ],
   "source": [
    "def purpose_simplification(text):\n",
    "    if 'автомобиль' in text:\n",
    "        return 'авто'\n",
    "    if 'свадьба' in text:\n",
    "        return 'свадьба'\n",
    "    if 'образование' in text:\n",
    "        return 'образование'\n",
    "    if 'жилье' or 'недвижимость' in text:\n",
    "        return 'ком. недвижимость'\n",
    "df['lemmas'] = df['lemmas'].apply(purpose_simplification)\n",
    "print(df.head(10))"
   ]
  },
  {
   "cell_type": "markdown",
   "metadata": {},
   "source": [
    "### Вывод"
   ]
  },
  {
   "cell_type": "markdown",
   "metadata": {},
   "source": [
    "Я разбила на категории данные в столбцах 'children' и 'total_income'.\n",
    "\n",
    "1.Из датафрейма видно, что у заемщиков может быть от 0 до 5 детей, поэтому для удобства работы разобьем заемщиков на группы, в зависимости от количества детей. После создания и применения функции def amount_children_group(children) получила следующие группы: \"нет детей\", \"1-2 ребенка\", \"многодетные\". Проверила, что функция работает при помощи вывода print(amount_children_group(количество детей)) и добавила столбец 'amount_children_group' к датафрейму.\n",
    "\n",
    "2. Значения в столбце 'total_income' с помощью функции total_income_groupразбила на 4 категории дохода - 1) от 20 000 до 110 000, 2) от 110 000 до 150 000 3) от 150 000 до 200 000 4) больше 200 000.  Проверила, что функция работает при помощи вывода print(total_income_group(сумма дохода)) и добавила столбец 'amount_income_group' к датафрейму.\n",
    "\n",
    "3. Данные разбиты на категории, исходя из общепринятых представлений о многодетности и уровню дохода в крупных городах."
   ]
  },
  {
   "cell_type": "markdown",
   "metadata": {},
   "source": [
    "### Шаг 3. Ответьте на вопросы"
   ]
  },
  {
   "cell_type": "markdown",
   "metadata": {},
   "source": [
    "- Есть ли зависимость между наличием детей и возвратом кредита в срок?"
   ]
  },
  {
   "cell_type": "code",
   "execution_count": 35,
   "metadata": {},
   "outputs": [],
   "source": [
    "children_debt_pivot = df.pivot_table(index = ['amount_children_group'], values = 'debt')"
   ]
  },
  {
   "cell_type": "code",
   "execution_count": 36,
   "metadata": {},
   "outputs": [
    {
     "name": "stdout",
     "output_type": "stream",
     "text": [
      "                           debt\n",
      "amount_children_group          \n",
      "1-2 ребенка            0.092640\n",
      "многодетные            0.081579\n",
      "нет детей              0.075353\n"
     ]
    }
   ],
   "source": [
    "print(children_debt_pivot)"
   ]
  },
  {
   "cell_type": "markdown",
   "metadata": {},
   "source": [
    "### Вывод"
   ]
  },
  {
   "cell_type": "markdown",
   "metadata": {},
   "source": [
    "Построим сводную таблицу для ответа на этот вопрос. По соотношению между категориями заемщиков по количеству детей видно, что заемщики, не имеющие детей, менее склонны к просрочке платежа - вероятность 7,5%. А более склонны к просрочке платежа те, у кого есть 1-2 ребенка - 9,2%."
   ]
  },
  {
   "cell_type": "markdown",
   "metadata": {},
   "source": [
    "- Есть ли зависимость между семейным положением и возвратом кредита в срок?"
   ]
  },
  {
   "cell_type": "code",
   "execution_count": 37,
   "metadata": {},
   "outputs": [],
   "source": [
    "family_status_debt_pivot = df.pivot_table(index = ['family_status'], values = 'debt')"
   ]
  },
  {
   "cell_type": "code",
   "execution_count": 38,
   "metadata": {},
   "outputs": [
    {
     "name": "stdout",
     "output_type": "stream",
     "text": [
      "                           debt\n",
      "family_status                  \n",
      "Не женат / не замужем  0.097509\n",
      "в разводе              0.071130\n",
      "вдовец / вдова         0.065693\n",
      "гражданский брак       0.093202\n",
      "женат / замужем        0.075421\n"
     ]
    }
   ],
   "source": [
    "print(family_status_debt_pivot)"
   ]
  },
  {
   "cell_type": "markdown",
   "metadata": {},
   "source": [
    "### Вывод"
   ]
  },
  {
   "cell_type": "markdown",
   "metadata": {},
   "source": [
    "Из сводной таблицы видим соотношение, что менее всего склонны к просрочкам платежей вдовцы и вдовы - 6,6%, разведенные - 7,1%, и состоящие в официальном браке - 7,5%; более всего - не находящиеся в браке - 9,8% и живущие в гражданском браке - 9,3%."
   ]
  },
  {
   "cell_type": "markdown",
   "metadata": {},
   "source": [
    "- Есть ли зависимость между уровнем дохода и возвратом кредита в срок?"
   ]
  },
  {
   "cell_type": "code",
   "execution_count": 39,
   "metadata": {},
   "outputs": [],
   "source": [
    "total_income_group_debt_pivot = df.pivot_table(index = ['total_income_group'], values = 'debt')"
   ]
  },
  {
   "cell_type": "code",
   "execution_count": 40,
   "metadata": {},
   "outputs": [
    {
     "name": "stdout",
     "output_type": "stream",
     "text": [
      "                           debt\n",
      "total_income_group             \n",
      "доход 110 000-150 000  0.087225\n",
      "доход 150 000-200 000  0.084977\n",
      "доход 20 000-110 000   0.080645\n",
      "доход выше 200 000     0.070653\n"
     ]
    }
   ],
   "source": [
    "print(total_income_group_debt_pivot)"
   ]
  },
  {
   "cell_type": "markdown",
   "metadata": {},
   "source": [
    "### Вывод"
   ]
  },
  {
   "cell_type": "markdown",
   "metadata": {},
   "source": [
    "Исходя из результатов сводной таблицы видно, что наименее склонны к просрочкам по кредиту заемщики с доходом выше 200 000 - 7% и заемщики с доходом 20 000 - 110 000. А вероятность просрочки среди клиентов с доходами в интервале 110 000 - 200 000 примерно одинакова - 8,4% и 8,7%."
   ]
  },
  {
   "cell_type": "markdown",
   "metadata": {},
   "source": [
    "- Как разные цели кредита влияют на его возврат в срок?"
   ]
  },
  {
   "cell_type": "code",
   "execution_count": 41,
   "metadata": {},
   "outputs": [],
   "source": [
    "lemmas_debt_pivot = df.pivot_table(index = ['lemmas'], values = 'debt')"
   ]
  },
  {
   "cell_type": "code",
   "execution_count": 42,
   "metadata": {},
   "outputs": [
    {
     "name": "stdout",
     "output_type": "stream",
     "text": [
      "                       debt\n",
      "lemmas                     \n",
      "авто               0.093547\n",
      "ком. недвижимость  0.072314\n",
      "образование        0.092177\n",
      "свадьба            0.079657\n"
     ]
    }
   ],
   "source": [
    "print(lemmas_debt_pivot)"
   ]
  },
  {
   "cell_type": "markdown",
   "metadata": {},
   "source": [
    "### Вывод"
   ]
  },
  {
   "cell_type": "markdown",
   "metadata": {},
   "source": [
    "Самая низкая вероятность просрочки у тех, кто брал кредит на недвижимость - 7,2%, это можно объяснить тем, что суммы по таким кредитам большие и требуют наличия высокого дохода/ уверенности в доходе на многие годы. Самая большая вероятность просрочки у тех, кто брал кредит на автомобиль - 9,3%, затем - у тех, кто взял кредит на образование - 9,2%. Интересно, что те, кто брал кредит на свадьбу, возвращает его с большой вероятностью."
   ]
  },
  {
   "cell_type": "markdown",
   "metadata": {},
   "source": [
    "### Шаг 4. Общий вывод"
   ]
  },
  {
   "cell_type": "markdown",
   "metadata": {},
   "source": [
    "Так как в начале нашей работы говорилось, что результаты исследования будут учтены при построении модели кредитного скоринга — специальной системы, которая оценивает способность потенциального заёмщика вернуть кредит банку, опишем характеристики \"идеального\" клиента:\n",
    "1. У него нет детей.\n",
    "2. Он состоит в официальном браке сейчас или когда-то был (вдовцы и разведенные).\n",
    "3. Его доход составляет или более 200 000 или сумму в интервале 20 000-110 000.\n",
    "4. Скорее всего, целью кредита будет приобретение недвижимости."
   ]
  }
 ],
 "metadata": {
  "ExecuteTimeLog": [
   {
    "duration": 807,
    "start_time": "2021-08-31T09:16:05.100Z"
   },
   {
    "duration": 9,
    "start_time": "2021-08-31T09:16:05.909Z"
   },
   {
    "duration": 9,
    "start_time": "2021-08-31T09:16:05.921Z"
   },
   {
    "duration": 76,
    "start_time": "2021-08-31T09:16:05.932Z"
   },
   {
    "duration": 43,
    "start_time": "2021-08-31T09:16:06.011Z"
   },
   {
    "duration": 78,
    "start_time": "2021-08-31T09:16:06.056Z"
   },
   {
    "duration": 15,
    "start_time": "2021-08-31T09:16:06.136Z"
   },
   {
    "duration": 14,
    "start_time": "2021-08-31T09:16:06.155Z"
   },
   {
    "duration": 14,
    "start_time": "2021-08-31T09:16:06.172Z"
   },
   {
    "duration": 32,
    "start_time": "2021-08-31T09:16:06.188Z"
   },
   {
    "duration": 620,
    "start_time": "2021-08-31T09:16:06.223Z"
   },
   {
    "duration": 10,
    "start_time": "2021-08-31T09:16:06.845Z"
   },
   {
    "duration": 13,
    "start_time": "2021-08-31T09:16:06.857Z"
   },
   {
    "duration": 10,
    "start_time": "2021-08-31T09:16:06.872Z"
   },
   {
    "duration": 46,
    "start_time": "2021-08-31T09:16:06.884Z"
   },
   {
    "duration": 6,
    "start_time": "2021-08-31T09:16:06.932Z"
   },
   {
    "duration": 17,
    "start_time": "2021-08-31T09:16:06.941Z"
   },
   {
    "duration": 22,
    "start_time": "2021-08-31T09:16:06.961Z"
   },
   {
    "duration": 55,
    "start_time": "2021-08-31T09:16:06.986Z"
   },
   {
    "duration": 88,
    "start_time": "2021-08-31T09:16:07.045Z"
   },
   {
    "duration": 23,
    "start_time": "2021-08-31T09:16:07.135Z"
   },
   {
    "duration": 24,
    "start_time": "2021-08-31T09:16:07.160Z"
   },
   {
    "duration": 7238,
    "start_time": "2021-08-31T09:16:07.218Z"
   },
   {
    "duration": 10,
    "start_time": "2021-08-31T09:16:14.461Z"
   },
   {
    "duration": 5,
    "start_time": "2021-08-31T09:16:14.474Z"
   },
   {
    "duration": 5,
    "start_time": "2021-08-31T09:16:14.482Z"
   },
   {
    "duration": 21,
    "start_time": "2021-08-31T09:16:14.518Z"
   },
   {
    "duration": 3,
    "start_time": "2021-08-31T09:16:14.542Z"
   },
   {
    "duration": 5,
    "start_time": "2021-08-31T09:16:14.548Z"
   },
   {
    "duration": 7,
    "start_time": "2021-08-31T09:16:14.555Z"
   },
   {
    "duration": 53,
    "start_time": "2021-08-31T09:16:14.564Z"
   },
   {
    "duration": 23,
    "start_time": "2021-08-31T09:16:14.620Z"
   },
   {
    "duration": 21,
    "start_time": "2021-08-31T09:16:14.646Z"
   },
   {
    "duration": 170,
    "start_time": "2021-08-31T09:16:14.670Z"
   },
   {
    "duration": -1241,
    "start_time": "2021-08-31T09:16:16.142Z"
   },
   {
    "duration": -1262,
    "start_time": "2021-08-31T09:16:16.165Z"
   },
   {
    "duration": -1288,
    "start_time": "2021-08-31T09:16:16.193Z"
   },
   {
    "duration": -1315,
    "start_time": "2021-08-31T09:16:16.222Z"
   },
   {
    "duration": -1347,
    "start_time": "2021-08-31T09:16:16.256Z"
   },
   {
    "duration": -1355,
    "start_time": "2021-08-31T09:16:16.266Z"
   },
   {
    "duration": -1359,
    "start_time": "2021-08-31T09:16:16.272Z"
   },
   {
    "duration": -1361,
    "start_time": "2021-08-31T09:16:16.278Z"
   },
   {
    "duration": -1365,
    "start_time": "2021-08-31T09:16:16.284Z"
   },
   {
    "duration": 751,
    "start_time": "2021-08-31T09:16:40.875Z"
   },
   {
    "duration": 5,
    "start_time": "2021-08-31T09:16:41.629Z"
   },
   {
    "duration": 5,
    "start_time": "2021-08-31T09:16:41.636Z"
   },
   {
    "duration": 84,
    "start_time": "2021-08-31T09:16:41.643Z"
   },
   {
    "duration": 43,
    "start_time": "2021-08-31T09:16:41.729Z"
   },
   {
    "duration": 74,
    "start_time": "2021-08-31T09:16:41.775Z"
   },
   {
    "duration": 14,
    "start_time": "2021-08-31T09:16:41.851Z"
   },
   {
    "duration": 11,
    "start_time": "2021-08-31T09:16:41.869Z"
   },
   {
    "duration": 41,
    "start_time": "2021-08-31T09:16:41.883Z"
   },
   {
    "duration": 10,
    "start_time": "2021-08-31T09:16:41.926Z"
   },
   {
    "duration": 639,
    "start_time": "2021-08-31T09:16:41.938Z"
   },
   {
    "duration": 9,
    "start_time": "2021-08-31T09:16:42.580Z"
   },
   {
    "duration": 28,
    "start_time": "2021-08-31T09:16:42.592Z"
   },
   {
    "duration": 13,
    "start_time": "2021-08-31T09:16:42.623Z"
   },
   {
    "duration": 18,
    "start_time": "2021-08-31T09:16:42.638Z"
   },
   {
    "duration": 6,
    "start_time": "2021-08-31T09:16:42.659Z"
   },
   {
    "duration": 49,
    "start_time": "2021-08-31T09:16:42.667Z"
   },
   {
    "duration": 24,
    "start_time": "2021-08-31T09:16:42.720Z"
   },
   {
    "duration": 20,
    "start_time": "2021-08-31T09:16:42.747Z"
   },
   {
    "duration": 91,
    "start_time": "2021-08-31T09:16:42.770Z"
   },
   {
    "duration": 22,
    "start_time": "2021-08-31T09:16:42.864Z"
   },
   {
    "duration": 48,
    "start_time": "2021-08-31T09:16:42.888Z"
   },
   {
    "duration": 6985,
    "start_time": "2021-08-31T09:16:42.942Z"
   },
   {
    "duration": 7,
    "start_time": "2021-08-31T09:16:49.930Z"
   },
   {
    "duration": 4,
    "start_time": "2021-08-31T09:16:49.940Z"
   },
   {
    "duration": 8,
    "start_time": "2021-08-31T09:16:49.947Z"
   },
   {
    "duration": 59,
    "start_time": "2021-08-31T09:16:49.957Z"
   },
   {
    "duration": 3,
    "start_time": "2021-08-31T09:16:50.019Z"
   },
   {
    "duration": 9,
    "start_time": "2021-08-31T09:16:50.025Z"
   },
   {
    "duration": 13,
    "start_time": "2021-08-31T09:16:50.036Z"
   },
   {
    "duration": 14,
    "start_time": "2021-08-31T09:16:50.052Z"
   },
   {
    "duration": 54,
    "start_time": "2021-08-31T09:16:50.069Z"
   },
   {
    "duration": 18,
    "start_time": "2021-08-31T09:16:50.127Z"
   },
   {
    "duration": 109,
    "start_time": "2021-08-31T09:16:50.148Z"
   },
   {
    "duration": 60,
    "start_time": "2021-08-31T09:16:50.260Z"
   },
   {
    "duration": 6,
    "start_time": "2021-08-31T09:16:50.323Z"
   },
   {
    "duration": 23,
    "start_time": "2021-08-31T09:16:50.331Z"
   },
   {
    "duration": 8,
    "start_time": "2021-08-31T09:16:50.357Z"
   },
   {
    "duration": 63,
    "start_time": "2021-08-31T09:16:50.368Z"
   },
   {
    "duration": 13,
    "start_time": "2021-08-31T09:16:50.433Z"
   },
   {
    "duration": 23,
    "start_time": "2021-08-31T09:16:50.449Z"
   },
   {
    "duration": 51,
    "start_time": "2021-08-31T09:16:50.475Z"
   }
  ],
  "kernelspec": {
   "display_name": "Python 3",
   "language": "python",
   "name": "python3"
  },
  "language_info": {
   "codemirror_mode": {
    "name": "ipython",
    "version": 3
   },
   "file_extension": ".py",
   "mimetype": "text/x-python",
   "name": "python",
   "nbconvert_exporter": "python",
   "pygments_lexer": "ipython3",
   "version": "3.7.8"
  },
  "toc": {
   "base_numbering": 1,
   "nav_menu": {},
   "number_sections": false,
   "sideBar": true,
   "skip_h1_title": true,
   "title_cell": "Table of Contents",
   "title_sidebar": "Contents",
   "toc_cell": false,
   "toc_position": {},
   "toc_section_display": true,
   "toc_window_display": true
  }
 },
 "nbformat": 4,
 "nbformat_minor": 2
}
